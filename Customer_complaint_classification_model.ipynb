{
 "cells": [
  {
   "cell_type": "markdown",
   "metadata": {},
   "source": [
    "1) LINEAR SVM MACHINE LEARNING MODEL"
   ]
  },
  {
   "cell_type": "code",
   "execution_count": 1,
   "metadata": {},
   "outputs": [],
   "source": [
    "import pandas as pd\n",
    "import numpy as np"
   ]
  },
  {
   "cell_type": "code",
   "execution_count": 2,
   "metadata": {},
   "outputs": [
    {
     "name": "stderr",
     "output_type": "stream",
     "text": [
      "C:\\Users\\praka.LAPTOP-HFF316K4\\Anaconda3\\envs\\prakprojects\\lib\\site-packages\\tensorflow\\python\\framework\\dtypes.py:523: FutureWarning: Passing (type, 1) or '1type' as a synonym of type is deprecated; in a future version of numpy, it will be understood as (type, (1,)) / '(1,)type'.\n",
      "  _np_qint8 = np.dtype([(\"qint8\", np.int8, 1)])\n",
      "C:\\Users\\praka.LAPTOP-HFF316K4\\Anaconda3\\envs\\prakprojects\\lib\\site-packages\\tensorflow\\python\\framework\\dtypes.py:524: FutureWarning: Passing (type, 1) or '1type' as a synonym of type is deprecated; in a future version of numpy, it will be understood as (type, (1,)) / '(1,)type'.\n",
      "  _np_quint8 = np.dtype([(\"quint8\", np.uint8, 1)])\n",
      "C:\\Users\\praka.LAPTOP-HFF316K4\\Anaconda3\\envs\\prakprojects\\lib\\site-packages\\tensorflow\\python\\framework\\dtypes.py:525: FutureWarning: Passing (type, 1) or '1type' as a synonym of type is deprecated; in a future version of numpy, it will be understood as (type, (1,)) / '(1,)type'.\n",
      "  _np_qint16 = np.dtype([(\"qint16\", np.int16, 1)])\n",
      "C:\\Users\\praka.LAPTOP-HFF316K4\\Anaconda3\\envs\\prakprojects\\lib\\site-packages\\tensorflow\\python\\framework\\dtypes.py:526: FutureWarning: Passing (type, 1) or '1type' as a synonym of type is deprecated; in a future version of numpy, it will be understood as (type, (1,)) / '(1,)type'.\n",
      "  _np_quint16 = np.dtype([(\"quint16\", np.uint16, 1)])\n",
      "C:\\Users\\praka.LAPTOP-HFF316K4\\Anaconda3\\envs\\prakprojects\\lib\\site-packages\\tensorflow\\python\\framework\\dtypes.py:527: FutureWarning: Passing (type, 1) or '1type' as a synonym of type is deprecated; in a future version of numpy, it will be understood as (type, (1,)) / '(1,)type'.\n",
      "  _np_qint32 = np.dtype([(\"qint32\", np.int32, 1)])\n",
      "C:\\Users\\praka.LAPTOP-HFF316K4\\Anaconda3\\envs\\prakprojects\\lib\\site-packages\\tensorflow\\python\\framework\\dtypes.py:532: FutureWarning: Passing (type, 1) or '1type' as a synonym of type is deprecated; in a future version of numpy, it will be understood as (type, (1,)) / '(1,)type'.\n",
      "  np_resource = np.dtype([(\"resource\", np.ubyte, 1)])\n"
     ]
    }
   ],
   "source": [
    "from sklearn.preprocessing import LabelEncoder\n",
    "from sklearn.model_selection import train_test_split\n",
    "from sklearn.metrics import roc_auc_score, roc_curve\n",
    "import matplotlib.pyplot as plt\n",
    "from sklearn.metrics import accuracy_score\n",
    "from sklearn.metrics import classification_report,confusion_matrix\n",
    "from sklearn.model_selection import KFold, cross_val_score, GridSearchCV\n",
    "from sklearn.preprocessing import FunctionTransformer\n",
    "from sklearn.pipeline import Pipeline\n",
    "from numpy import loadtxt"
   ]
  },
  {
   "cell_type": "code",
   "execution_count": 3,
   "metadata": {},
   "outputs": [],
   "source": [
    "import tensorflow as tf\n",
    "from tensorflow import keras\n",
    "from tensorflow.keras import backend as K\n",
    "from tensorflow.keras.models import Sequential\n",
    "from tensorflow.keras.layers import BatchNormalization\n",
    "from tensorflow.layers import Conv2D\n",
    "from tensorflow.keras.layers import MaxPooling2D\n",
    "from tensorflow.keras.layers import Activation\n",
    "from tensorflow.keras.layers import Dropout\n",
    "from tensorflow.keras.layers import Dense\n",
    "from tensorflow.keras.layers import Flatten\n",
    "from tensorflow.keras.layers import Input\n",
    "from tensorflow.keras.models import Model\n",
    "from tensorflow.keras.optimizers import SGD\n",
    "from tensorflow.keras.wrappers.scikit_learn import KerasClassifier\n",
    "from sklearn.model_selection import StratifiedKFold\n",
    "from tensorflow.keras.regularizers import l2\n",
    "\n",
    "import seaborn as sns\n",
    "import matplotlib.pyplot as plt\n"
   ]
  },
  {
   "cell_type": "code",
   "execution_count": 4,
   "metadata": {},
   "outputs": [],
   "source": [
    "import re\n",
    "import string\n",
    "import nltk\n",
    "from nltk.corpus import stopwords\n",
    "from nltk import word_tokenize, WordNetLemmatizer\n",
    "from sklearn.feature_extraction.text import CountVectorizer\n",
    "from sklearn.feature_extraction.text import TfidfTransformer,TfidfVectorizer\n",
    "from sklearn import model_selection, preprocessing, linear_model, naive_bayes, metrics, svm\n",
    "from sklearn.naive_bayes import MultinomialNB\n",
    "from sklearn.metrics import confusion_matrix\n",
    "from sklearn.svm import LinearSVC\n",
    "import scikitplot as skplt"
   ]
  },
  {
   "cell_type": "code",
   "execution_count": 5,
   "metadata": {},
   "outputs": [
    {
     "data": {
      "text/html": [
       "<div>\n",
       "<style scoped>\n",
       "    .dataframe tbody tr th:only-of-type {\n",
       "        vertical-align: middle;\n",
       "    }\n",
       "\n",
       "    .dataframe tbody tr th {\n",
       "        vertical-align: top;\n",
       "    }\n",
       "\n",
       "    .dataframe thead th {\n",
       "        text-align: right;\n",
       "    }\n",
       "</style>\n",
       "<table border=\"1\" class=\"dataframe\">\n",
       "  <thead>\n",
       "    <tr style=\"text-align: right;\">\n",
       "      <th></th>\n",
       "      <th>Unnamed: 0</th>\n",
       "      <th>Text</th>\n",
       "      <th>Class</th>\n",
       "    </tr>\n",
       "  </thead>\n",
       "  <tbody>\n",
       "    <tr>\n",
       "      <th>0</th>\n",
       "      <td>0</td>\n",
       "      <td>I have outdated information on my credit repor...</td>\n",
       "      <td>C</td>\n",
       "    </tr>\n",
       "    <tr>\n",
       "      <th>1</th>\n",
       "      <td>2</td>\n",
       "      <td>An account on my credit report has a mistaken ...</td>\n",
       "      <td>C</td>\n",
       "    </tr>\n",
       "    <tr>\n",
       "      <th>2</th>\n",
       "      <td>3</td>\n",
       "      <td>This company refuses to provide me verificatio...</td>\n",
       "      <td>A</td>\n",
       "    </tr>\n",
       "    <tr>\n",
       "      <th>3</th>\n",
       "      <td>4</td>\n",
       "      <td>This complaint is in regards to Square Two Fin...</td>\n",
       "      <td>A</td>\n",
       "    </tr>\n",
       "    <tr>\n",
       "      <th>4</th>\n",
       "      <td>5</td>\n",
       "      <td>Started the refinance of home mortgage process...</td>\n",
       "      <td>B</td>\n",
       "    </tr>\n",
       "    <tr>\n",
       "      <th>5</th>\n",
       "      <td>6</td>\n",
       "      <td>In XXXX, I and my ex-husband applied for a ref...</td>\n",
       "      <td>B</td>\n",
       "    </tr>\n",
       "    <tr>\n",
       "      <th>6</th>\n",
       "      <td>7</td>\n",
       "      <td>I have disputed several accounts on my credit ...</td>\n",
       "      <td>C</td>\n",
       "    </tr>\n",
       "    <tr>\n",
       "      <th>7</th>\n",
       "      <td>8</td>\n",
       "      <td>Mortgage was transferred to Nationstar as of X...</td>\n",
       "      <td>B</td>\n",
       "    </tr>\n",
       "    <tr>\n",
       "      <th>8</th>\n",
       "      <td>9</td>\n",
       "      <td>Was a happy XXXX card member for years, in lat...</td>\n",
       "      <td>D</td>\n",
       "    </tr>\n",
       "    <tr>\n",
       "      <th>9</th>\n",
       "      <td>10</td>\n",
       "      <td>Without provocation, I received notice that my...</td>\n",
       "      <td>D</td>\n",
       "    </tr>\n",
       "  </tbody>\n",
       "</table>\n",
       "</div>"
      ],
      "text/plain": [
       "   Unnamed: 0                                               Text Class\n",
       "0           0  I have outdated information on my credit repor...     C\n",
       "1           2  An account on my credit report has a mistaken ...     C\n",
       "2           3  This company refuses to provide me verificatio...     A\n",
       "3           4  This complaint is in regards to Square Two Fin...     A\n",
       "4           5  Started the refinance of home mortgage process...     B\n",
       "5           6  In XXXX, I and my ex-husband applied for a ref...     B\n",
       "6           7  I have disputed several accounts on my credit ...     C\n",
       "7           8  Mortgage was transferred to Nationstar as of X...     B\n",
       "8           9  Was a happy XXXX card member for years, in lat...     D\n",
       "9          10  Without provocation, I received notice that my...     D"
      ]
     },
     "execution_count": 5,
     "metadata": {},
     "output_type": "execute_result"
    }
   ],
   "source": [
    "# import csv data file as dataframe and view first 10 records\n",
    "df=pd.read_csv('./data.csv')\n",
    "df.head(10)"
   ]
  },
  {
   "cell_type": "code",
   "execution_count": 6,
   "metadata": {},
   "outputs": [
    {
     "data": {
      "text/plain": [
       "Index(['Unnamed: 0', 'Text', 'Class'], dtype='object')"
      ]
     },
     "execution_count": 6,
     "metadata": {},
     "output_type": "execute_result"
    }
   ],
   "source": [
    "df.columns"
   ]
  },
  {
   "cell_type": "code",
   "execution_count": 7,
   "metadata": {},
   "outputs": [],
   "source": [
    "#drop unwanted columns\n",
    "df.drop(columns=['Unnamed: 0'],inplace=True)"
   ]
  },
  {
   "cell_type": "code",
   "execution_count": 8,
   "metadata": {},
   "outputs": [
    {
     "data": {
      "text/html": [
       "<div>\n",
       "<style scoped>\n",
       "    .dataframe tbody tr th:only-of-type {\n",
       "        vertical-align: middle;\n",
       "    }\n",
       "\n",
       "    .dataframe tbody tr th {\n",
       "        vertical-align: top;\n",
       "    }\n",
       "\n",
       "    .dataframe thead th {\n",
       "        text-align: right;\n",
       "    }\n",
       "</style>\n",
       "<table border=\"1\" class=\"dataframe\">\n",
       "  <thead>\n",
       "    <tr style=\"text-align: right;\">\n",
       "      <th></th>\n",
       "      <th>Text</th>\n",
       "      <th>Class</th>\n",
       "    </tr>\n",
       "  </thead>\n",
       "  <tbody>\n",
       "    <tr>\n",
       "      <th>0</th>\n",
       "      <td>I have outdated information on my credit repor...</td>\n",
       "      <td>C</td>\n",
       "    </tr>\n",
       "    <tr>\n",
       "      <th>1</th>\n",
       "      <td>An account on my credit report has a mistaken ...</td>\n",
       "      <td>C</td>\n",
       "    </tr>\n",
       "    <tr>\n",
       "      <th>2</th>\n",
       "      <td>This company refuses to provide me verificatio...</td>\n",
       "      <td>A</td>\n",
       "    </tr>\n",
       "    <tr>\n",
       "      <th>3</th>\n",
       "      <td>This complaint is in regards to Square Two Fin...</td>\n",
       "      <td>A</td>\n",
       "    </tr>\n",
       "    <tr>\n",
       "      <th>4</th>\n",
       "      <td>Started the refinance of home mortgage process...</td>\n",
       "      <td>B</td>\n",
       "    </tr>\n",
       "    <tr>\n",
       "      <th>...</th>\n",
       "      <td>...</td>\n",
       "      <td>...</td>\n",
       "    </tr>\n",
       "    <tr>\n",
       "      <th>128951</th>\n",
       "      <td>Barclay closed my Barclay XXXX MasterCard acco...</td>\n",
       "      <td>D</td>\n",
       "    </tr>\n",
       "    <tr>\n",
       "      <th>128952</th>\n",
       "      <td>Our son was taken to XXXX XXXX XXXX XXXX XXXX ...</td>\n",
       "      <td>A</td>\n",
       "    </tr>\n",
       "    <tr>\n",
       "      <th>128953</th>\n",
       "      <td>I had an account with XXXX in XX/XX/XXXX this ...</td>\n",
       "      <td>A</td>\n",
       "    </tr>\n",
       "    <tr>\n",
       "      <th>128954</th>\n",
       "      <td>I was contacted on XX/XX/XXXX email by XXXX fr...</td>\n",
       "      <td>B</td>\n",
       "    </tr>\n",
       "    <tr>\n",
       "      <th>128955</th>\n",
       "      <td>I had a debit that was included in my chapter ...</td>\n",
       "      <td>A</td>\n",
       "    </tr>\n",
       "  </tbody>\n",
       "</table>\n",
       "<p>128956 rows × 2 columns</p>\n",
       "</div>"
      ],
      "text/plain": [
       "                                                     Text Class\n",
       "0       I have outdated information on my credit repor...     C\n",
       "1       An account on my credit report has a mistaken ...     C\n",
       "2       This company refuses to provide me verificatio...     A\n",
       "3       This complaint is in regards to Square Two Fin...     A\n",
       "4       Started the refinance of home mortgage process...     B\n",
       "...                                                   ...   ...\n",
       "128951  Barclay closed my Barclay XXXX MasterCard acco...     D\n",
       "128952  Our son was taken to XXXX XXXX XXXX XXXX XXXX ...     A\n",
       "128953  I had an account with XXXX in XX/XX/XXXX this ...     A\n",
       "128954  I was contacted on XX/XX/XXXX email by XXXX fr...     B\n",
       "128955  I had a debit that was included in my chapter ...     A\n",
       "\n",
       "[128956 rows x 2 columns]"
      ]
     },
     "execution_count": 8,
     "metadata": {},
     "output_type": "execute_result"
    }
   ],
   "source": [
    "df"
   ]
  },
  {
   "cell_type": "code",
   "execution_count": 9,
   "metadata": {},
   "outputs": [
    {
     "data": {
      "text/plain": [
       "Text     0\n",
       "Class    0\n",
       "dtype: int64"
      ]
     },
     "execution_count": 9,
     "metadata": {},
     "output_type": "execute_result"
    }
   ],
   "source": [
    "#check for null values\n",
    "df.isnull().sum()"
   ]
  },
  {
   "cell_type": "code",
   "execution_count": 10,
   "metadata": {},
   "outputs": [
    {
     "data": {
      "text/plain": [
       "Text     0\n",
       "Class    0\n",
       "dtype: int64"
      ]
     },
     "execution_count": 10,
     "metadata": {},
     "output_type": "execute_result"
    }
   ],
   "source": [
    "#check for NaN values\n",
    "df.isna().sum()"
   ]
  },
  {
   "cell_type": "code",
   "execution_count": 11,
   "metadata": {},
   "outputs": [],
   "source": [
    "#drop duplicate records\n",
    "df=df.drop_duplicates()"
   ]
  },
  {
   "cell_type": "code",
   "execution_count": 12,
   "metadata": {},
   "outputs": [
    {
     "data": {
      "text/html": [
       "<div>\n",
       "<style scoped>\n",
       "    .dataframe tbody tr th:only-of-type {\n",
       "        vertical-align: middle;\n",
       "    }\n",
       "\n",
       "    .dataframe tbody tr th {\n",
       "        vertical-align: top;\n",
       "    }\n",
       "\n",
       "    .dataframe thead th {\n",
       "        text-align: right;\n",
       "    }\n",
       "</style>\n",
       "<table border=\"1\" class=\"dataframe\">\n",
       "  <thead>\n",
       "    <tr style=\"text-align: right;\">\n",
       "      <th></th>\n",
       "      <th>Text</th>\n",
       "      <th>Class</th>\n",
       "    </tr>\n",
       "  </thead>\n",
       "  <tbody>\n",
       "    <tr>\n",
       "      <th>0</th>\n",
       "      <td>I have outdated information on my credit repor...</td>\n",
       "      <td>C</td>\n",
       "    </tr>\n",
       "    <tr>\n",
       "      <th>1</th>\n",
       "      <td>An account on my credit report has a mistaken ...</td>\n",
       "      <td>C</td>\n",
       "    </tr>\n",
       "    <tr>\n",
       "      <th>2</th>\n",
       "      <td>This company refuses to provide me verificatio...</td>\n",
       "      <td>A</td>\n",
       "    </tr>\n",
       "    <tr>\n",
       "      <th>3</th>\n",
       "      <td>This complaint is in regards to Square Two Fin...</td>\n",
       "      <td>A</td>\n",
       "    </tr>\n",
       "    <tr>\n",
       "      <th>4</th>\n",
       "      <td>Started the refinance of home mortgage process...</td>\n",
       "      <td>B</td>\n",
       "    </tr>\n",
       "    <tr>\n",
       "      <th>...</th>\n",
       "      <td>...</td>\n",
       "      <td>...</td>\n",
       "    </tr>\n",
       "    <tr>\n",
       "      <th>128951</th>\n",
       "      <td>Barclay closed my Barclay XXXX MasterCard acco...</td>\n",
       "      <td>D</td>\n",
       "    </tr>\n",
       "    <tr>\n",
       "      <th>128952</th>\n",
       "      <td>Our son was taken to XXXX XXXX XXXX XXXX XXXX ...</td>\n",
       "      <td>A</td>\n",
       "    </tr>\n",
       "    <tr>\n",
       "      <th>128953</th>\n",
       "      <td>I had an account with XXXX in XX/XX/XXXX this ...</td>\n",
       "      <td>A</td>\n",
       "    </tr>\n",
       "    <tr>\n",
       "      <th>128954</th>\n",
       "      <td>I was contacted on XX/XX/XXXX email by XXXX fr...</td>\n",
       "      <td>B</td>\n",
       "    </tr>\n",
       "    <tr>\n",
       "      <th>128955</th>\n",
       "      <td>I had a debit that was included in my chapter ...</td>\n",
       "      <td>A</td>\n",
       "    </tr>\n",
       "  </tbody>\n",
       "</table>\n",
       "<p>125956 rows × 2 columns</p>\n",
       "</div>"
      ],
      "text/plain": [
       "                                                     Text Class\n",
       "0       I have outdated information on my credit repor...     C\n",
       "1       An account on my credit report has a mistaken ...     C\n",
       "2       This company refuses to provide me verificatio...     A\n",
       "3       This complaint is in regards to Square Two Fin...     A\n",
       "4       Started the refinance of home mortgage process...     B\n",
       "...                                                   ...   ...\n",
       "128951  Barclay closed my Barclay XXXX MasterCard acco...     D\n",
       "128952  Our son was taken to XXXX XXXX XXXX XXXX XXXX ...     A\n",
       "128953  I had an account with XXXX in XX/XX/XXXX this ...     A\n",
       "128954  I was contacted on XX/XX/XXXX email by XXXX fr...     B\n",
       "128955  I had a debit that was included in my chapter ...     A\n",
       "\n",
       "[125956 rows x 2 columns]"
      ]
     },
     "execution_count": 12,
     "metadata": {},
     "output_type": "execute_result"
    }
   ],
   "source": [
    "df"
   ]
  },
  {
   "cell_type": "code",
   "execution_count": 13,
   "metadata": {},
   "outputs": [
    {
     "data": {
      "text/plain": [
       "Text     125956\n",
       "Class    125956\n",
       "dtype: int64"
      ]
     },
     "execution_count": 13,
     "metadata": {},
     "output_type": "execute_result"
    }
   ],
   "source": [
    "df.count()"
   ]
  },
  {
   "cell_type": "code",
   "execution_count": 14,
   "metadata": {},
   "outputs": [
    {
     "data": {
      "text/plain": [
       "Class\n",
       "A    42814\n",
       "B    34550\n",
       "C    29828\n",
       "D    18764\n",
       "Name: Text, dtype: int64"
      ]
     },
     "execution_count": 14,
     "metadata": {},
     "output_type": "execute_result"
    }
   ],
   "source": [
    "df.groupby('Class')['Text'].count()"
   ]
  },
  {
   "cell_type": "code",
   "execution_count": null,
   "metadata": {},
   "outputs": [],
   "source": []
  },
  {
   "cell_type": "code",
   "execution_count": 16,
   "metadata": {},
   "outputs": [],
   "source": []
  },
  {
   "cell_type": "code",
   "execution_count": 17,
   "metadata": {},
   "outputs": [
    {
     "name": "stderr",
     "output_type": "stream",
     "text": [
      "C:\\Users\\praka.LAPTOP-HFF316K4\\Anaconda3\\envs\\prakprojects\\lib\\site-packages\\ipykernel_launcher.py:1: SettingWithCopyWarning: \n",
      "A value is trying to be set on a copy of a slice from a DataFrame.\n",
      "Try using .loc[row_indexer,col_indexer] = value instead\n",
      "\n",
      "See the caveats in the documentation: https://pandas.pydata.org/pandas-docs/stable/user_guide/indexing.html#returning-a-view-versus-a-copy\n",
      "  \"\"\"Entry point for launching an IPython kernel.\n"
     ]
    }
   ],
   "source": [
    "# changing categorical target variables to numerical\n",
    "class_le=LabelEncoder()\n",
    "df['Class']=class_le.fit_transform(df['Class'].values)"
   ]
  },
  {
   "cell_type": "code",
   "execution_count": 18,
   "metadata": {},
   "outputs": [
    {
     "data": {
      "text/html": [
       "<div>\n",
       "<style scoped>\n",
       "    .dataframe tbody tr th:only-of-type {\n",
       "        vertical-align: middle;\n",
       "    }\n",
       "\n",
       "    .dataframe tbody tr th {\n",
       "        vertical-align: top;\n",
       "    }\n",
       "\n",
       "    .dataframe thead th {\n",
       "        text-align: right;\n",
       "    }\n",
       "</style>\n",
       "<table border=\"1\" class=\"dataframe\">\n",
       "  <thead>\n",
       "    <tr style=\"text-align: right;\">\n",
       "      <th></th>\n",
       "      <th>Text</th>\n",
       "      <th>Class</th>\n",
       "    </tr>\n",
       "  </thead>\n",
       "  <tbody>\n",
       "    <tr>\n",
       "      <th>0</th>\n",
       "      <td>I have outdated information on my credit repor...</td>\n",
       "      <td>2</td>\n",
       "    </tr>\n",
       "    <tr>\n",
       "      <th>1</th>\n",
       "      <td>An account on my credit report has a mistaken ...</td>\n",
       "      <td>2</td>\n",
       "    </tr>\n",
       "    <tr>\n",
       "      <th>2</th>\n",
       "      <td>This company refuses to provide me verificatio...</td>\n",
       "      <td>0</td>\n",
       "    </tr>\n",
       "    <tr>\n",
       "      <th>3</th>\n",
       "      <td>This complaint is in regards to Square Two Fin...</td>\n",
       "      <td>0</td>\n",
       "    </tr>\n",
       "    <tr>\n",
       "      <th>4</th>\n",
       "      <td>Started the refinance of home mortgage process...</td>\n",
       "      <td>1</td>\n",
       "    </tr>\n",
       "    <tr>\n",
       "      <th>...</th>\n",
       "      <td>...</td>\n",
       "      <td>...</td>\n",
       "    </tr>\n",
       "    <tr>\n",
       "      <th>128951</th>\n",
       "      <td>Barclay closed my Barclay XXXX MasterCard acco...</td>\n",
       "      <td>3</td>\n",
       "    </tr>\n",
       "    <tr>\n",
       "      <th>128952</th>\n",
       "      <td>Our son was taken to XXXX XXXX XXXX XXXX XXXX ...</td>\n",
       "      <td>0</td>\n",
       "    </tr>\n",
       "    <tr>\n",
       "      <th>128953</th>\n",
       "      <td>I had an account with XXXX in XX/XX/XXXX this ...</td>\n",
       "      <td>0</td>\n",
       "    </tr>\n",
       "    <tr>\n",
       "      <th>128954</th>\n",
       "      <td>I was contacted on XX/XX/XXXX email by XXXX fr...</td>\n",
       "      <td>1</td>\n",
       "    </tr>\n",
       "    <tr>\n",
       "      <th>128955</th>\n",
       "      <td>I had a debit that was included in my chapter ...</td>\n",
       "      <td>0</td>\n",
       "    </tr>\n",
       "  </tbody>\n",
       "</table>\n",
       "<p>125956 rows × 2 columns</p>\n",
       "</div>"
      ],
      "text/plain": [
       "                                                     Text  Class\n",
       "0       I have outdated information on my credit repor...      2\n",
       "1       An account on my credit report has a mistaken ...      2\n",
       "2       This company refuses to provide me verificatio...      0\n",
       "3       This complaint is in regards to Square Two Fin...      0\n",
       "4       Started the refinance of home mortgage process...      1\n",
       "...                                                   ...    ...\n",
       "128951  Barclay closed my Barclay XXXX MasterCard acco...      3\n",
       "128952  Our son was taken to XXXX XXXX XXXX XXXX XXXX ...      0\n",
       "128953  I had an account with XXXX in XX/XX/XXXX this ...      0\n",
       "128954  I was contacted on XX/XX/XXXX email by XXXX fr...      1\n",
       "128955  I had a debit that was included in my chapter ...      0\n",
       "\n",
       "[125956 rows x 2 columns]"
      ]
     },
     "execution_count": 18,
     "metadata": {},
     "output_type": "execute_result"
    }
   ],
   "source": [
    "df"
   ]
  },
  {
   "cell_type": "code",
   "execution_count": null,
   "metadata": {},
   "outputs": [],
   "source": []
  },
  {
   "cell_type": "code",
   "execution_count": 254,
   "metadata": {},
   "outputs": [
    {
     "data": {
      "text/html": [
       "<div>\n",
       "<style scoped>\n",
       "    .dataframe tbody tr th:only-of-type {\n",
       "        vertical-align: middle;\n",
       "    }\n",
       "\n",
       "    .dataframe tbody tr th {\n",
       "        vertical-align: top;\n",
       "    }\n",
       "\n",
       "    .dataframe thead th {\n",
       "        text-align: right;\n",
       "    }\n",
       "</style>\n",
       "<table border=\"1\" class=\"dataframe\">\n",
       "  <thead>\n",
       "    <tr style=\"text-align: right;\">\n",
       "      <th></th>\n",
       "      <th>Text</th>\n",
       "      <th>Class</th>\n",
       "    </tr>\n",
       "  </thead>\n",
       "  <tbody>\n",
       "    <tr>\n",
       "      <th>2</th>\n",
       "      <td>This company refuses to provide me verificatio...</td>\n",
       "      <td>0</td>\n",
       "    </tr>\n",
       "    <tr>\n",
       "      <th>3</th>\n",
       "      <td>This complaint is in regards to Square Two Fin...</td>\n",
       "      <td>0</td>\n",
       "    </tr>\n",
       "    <tr>\n",
       "      <th>10</th>\n",
       "      <td>I am writing to request your assistance in loo...</td>\n",
       "      <td>0</td>\n",
       "    </tr>\n",
       "    <tr>\n",
       "      <th>21</th>\n",
       "      <td>My identity was stolen. I filed a complaint, p...</td>\n",
       "      <td>0</td>\n",
       "    </tr>\n",
       "    <tr>\n",
       "      <th>29</th>\n",
       "      <td>The first communication that I received from t...</td>\n",
       "      <td>0</td>\n",
       "    </tr>\n",
       "    <tr>\n",
       "      <th>...</th>\n",
       "      <td>...</td>\n",
       "      <td>...</td>\n",
       "    </tr>\n",
       "    <tr>\n",
       "      <th>128948</th>\n",
       "      <td>I do not owe this company. I have never receiv...</td>\n",
       "      <td>0</td>\n",
       "    </tr>\n",
       "    <tr>\n",
       "      <th>128950</th>\n",
       "      <td>I have never had XXXX billing, and do not owe ...</td>\n",
       "      <td>0</td>\n",
       "    </tr>\n",
       "    <tr>\n",
       "      <th>128952</th>\n",
       "      <td>Our son was taken to XXXX XXXX XXXX XXXX XXXX ...</td>\n",
       "      <td>0</td>\n",
       "    </tr>\n",
       "    <tr>\n",
       "      <th>128953</th>\n",
       "      <td>I had an account with XXXX in XX/XX/XXXX this ...</td>\n",
       "      <td>0</td>\n",
       "    </tr>\n",
       "    <tr>\n",
       "      <th>128955</th>\n",
       "      <td>I had a debit that was included in my chapter ...</td>\n",
       "      <td>0</td>\n",
       "    </tr>\n",
       "  </tbody>\n",
       "</table>\n",
       "<p>42814 rows × 2 columns</p>\n",
       "</div>"
      ],
      "text/plain": [
       "                                                     Text  Class\n",
       "2       This company refuses to provide me verificatio...      0\n",
       "3       This complaint is in regards to Square Two Fin...      0\n",
       "10      I am writing to request your assistance in loo...      0\n",
       "21      My identity was stolen. I filed a complaint, p...      0\n",
       "29      The first communication that I received from t...      0\n",
       "...                                                   ...    ...\n",
       "128948  I do not owe this company. I have never receiv...      0\n",
       "128950  I have never had XXXX billing, and do not owe ...      0\n",
       "128952  Our son was taken to XXXX XXXX XXXX XXXX XXXX ...      0\n",
       "128953  I had an account with XXXX in XX/XX/XXXX this ...      0\n",
       "128955  I had a debit that was included in my chapter ...      0\n",
       "\n",
       "[42814 rows x 2 columns]"
      ]
     },
     "execution_count": 254,
     "metadata": {},
     "output_type": "execute_result"
    }
   ],
   "source": [
    "#Identifying type of class for 0\n",
    "d0=df.loc[df['Class'] == 0]\n",
    "d0"
   ]
  },
  {
   "cell_type": "code",
   "execution_count": 259,
   "metadata": {},
   "outputs": [
    {
     "data": {
      "text/plain": [
       "'My identity was stolen. I filed a complaint, police report, affidavit, etc. I contacted the original company, and the collection agency to resolve this debt. Both of them keep sending me to each other, and neither will help in resolving this issue. I have spoken to supervisors at each company and still get the same answer- contact the other company. I want this debt removed from my credit, as it was fraudulent. The collection agency even offered to settle for {$300.00}! I am not paying a dime to a company I never had an account with!'"
      ]
     },
     "execution_count": 259,
     "metadata": {},
     "output_type": "execute_result"
    }
   ],
   "source": [
    "d0['Text'][21]\n",
    "#Class 0 is related to Debt"
   ]
  },
  {
   "cell_type": "code",
   "execution_count": 261,
   "metadata": {},
   "outputs": [
    {
     "data": {
      "text/html": [
       "<div>\n",
       "<style scoped>\n",
       "    .dataframe tbody tr th:only-of-type {\n",
       "        vertical-align: middle;\n",
       "    }\n",
       "\n",
       "    .dataframe tbody tr th {\n",
       "        vertical-align: top;\n",
       "    }\n",
       "\n",
       "    .dataframe thead th {\n",
       "        text-align: right;\n",
       "    }\n",
       "</style>\n",
       "<table border=\"1\" class=\"dataframe\">\n",
       "  <thead>\n",
       "    <tr style=\"text-align: right;\">\n",
       "      <th></th>\n",
       "      <th>Text</th>\n",
       "      <th>Class</th>\n",
       "    </tr>\n",
       "  </thead>\n",
       "  <tbody>\n",
       "    <tr>\n",
       "      <th>4</th>\n",
       "      <td>Started the refinance of home mortgage process...</td>\n",
       "      <td>1</td>\n",
       "    </tr>\n",
       "    <tr>\n",
       "      <th>5</th>\n",
       "      <td>In XXXX, I and my ex-husband applied for a ref...</td>\n",
       "      <td>1</td>\n",
       "    </tr>\n",
       "    <tr>\n",
       "      <th>7</th>\n",
       "      <td>Mortgage was transferred to Nationstar as of X...</td>\n",
       "      <td>1</td>\n",
       "    </tr>\n",
       "    <tr>\n",
       "      <th>13</th>\n",
       "      <td>Need to move into a XXXX facility. Can no long...</td>\n",
       "      <td>1</td>\n",
       "    </tr>\n",
       "    <tr>\n",
       "      <th>16</th>\n",
       "      <td>I had an FHA loan at US Bank that was paid off...</td>\n",
       "      <td>1</td>\n",
       "    </tr>\n",
       "    <tr>\n",
       "      <th>...</th>\n",
       "      <td>...</td>\n",
       "      <td>...</td>\n",
       "    </tr>\n",
       "    <tr>\n",
       "      <th>128942</th>\n",
       "      <td>TLA, XXXX XXXX, XXXX MD XXXX, XXXX sent out a ...</td>\n",
       "      <td>1</td>\n",
       "    </tr>\n",
       "    <tr>\n",
       "      <th>128943</th>\n",
       "      <td>Recent flood insurance claim check was written...</td>\n",
       "      <td>1</td>\n",
       "    </tr>\n",
       "    <tr>\n",
       "      <th>128945</th>\n",
       "      <td>After speaking with CFPB supervisor XXXX XXXX ...</td>\n",
       "      <td>1</td>\n",
       "    </tr>\n",
       "    <tr>\n",
       "      <th>128949</th>\n",
       "      <td>I have a mortgage with Caliber Home Loans ( Ac...</td>\n",
       "      <td>1</td>\n",
       "    </tr>\n",
       "    <tr>\n",
       "      <th>128954</th>\n",
       "      <td>I was contacted on XX/XX/XXXX email by XXXX fr...</td>\n",
       "      <td>1</td>\n",
       "    </tr>\n",
       "  </tbody>\n",
       "</table>\n",
       "<p>34550 rows × 2 columns</p>\n",
       "</div>"
      ],
      "text/plain": [
       "                                                     Text  Class\n",
       "4       Started the refinance of home mortgage process...      1\n",
       "5       In XXXX, I and my ex-husband applied for a ref...      1\n",
       "7       Mortgage was transferred to Nationstar as of X...      1\n",
       "13      Need to move into a XXXX facility. Can no long...      1\n",
       "16      I had an FHA loan at US Bank that was paid off...      1\n",
       "...                                                   ...    ...\n",
       "128942  TLA, XXXX XXXX, XXXX MD XXXX, XXXX sent out a ...      1\n",
       "128943  Recent flood insurance claim check was written...      1\n",
       "128945  After speaking with CFPB supervisor XXXX XXXX ...      1\n",
       "128949  I have a mortgage with Caliber Home Loans ( Ac...      1\n",
       "128954  I was contacted on XX/XX/XXXX email by XXXX fr...      1\n",
       "\n",
       "[34550 rows x 2 columns]"
      ]
     },
     "execution_count": 261,
     "metadata": {},
     "output_type": "execute_result"
    }
   ],
   "source": [
    "#Identifying type of class for 1\n",
    "d1=df.loc[df['Class'] == 1]\n",
    "d1"
   ]
  },
  {
   "cell_type": "code",
   "execution_count": 268,
   "metadata": {},
   "outputs": [
    {
     "data": {
      "text/plain": [
       "\"Recent flood insurance claim check was written to the mortgage company and me. it 's now in a secured escrow account and they wo n't release funds to start the repairs to my home. I 'm doing the work myself so they stated that I would have to purchase the materials first then they will reimburse me. So I have to come out of pocket first. They have also taken it upon themselves to make checks payable to the companies that we have submitted estimates for. I try to explain to the Insurance Claim Specialist that the quote was an estimate which can change based on how much material we will need she stated ; we would have to submit yet again another invoice. I tried to explain that this is holding up the building of the home to make it what is was prior to the flooding. She then expressed that 's it 's a process. I then asked for the written notice of this process she then expressed that its and internal memo and she can not share. She then said that I will be reimbursed by Tuesday for the materials that I have purchased so far and I have nothing yet. How is it that a bank can take it upon themselves that make checks payable to outside sources without my permission? 2 months post Hurricane XXXX and NFCU is no help.\""
      ]
     },
     "execution_count": 268,
     "metadata": {},
     "output_type": "execute_result"
    }
   ],
   "source": [
    "d1['Text'][128943]\n",
    "#Class 1 is related to Mortage"
   ]
  },
  {
   "cell_type": "code",
   "execution_count": 272,
   "metadata": {},
   "outputs": [
    {
     "data": {
      "text/html": [
       "<div>\n",
       "<style scoped>\n",
       "    .dataframe tbody tr th:only-of-type {\n",
       "        vertical-align: middle;\n",
       "    }\n",
       "\n",
       "    .dataframe tbody tr th {\n",
       "        vertical-align: top;\n",
       "    }\n",
       "\n",
       "    .dataframe thead th {\n",
       "        text-align: right;\n",
       "    }\n",
       "</style>\n",
       "<table border=\"1\" class=\"dataframe\">\n",
       "  <thead>\n",
       "    <tr style=\"text-align: right;\">\n",
       "      <th></th>\n",
       "      <th>Text</th>\n",
       "      <th>Class</th>\n",
       "    </tr>\n",
       "  </thead>\n",
       "  <tbody>\n",
       "    <tr>\n",
       "      <th>0</th>\n",
       "      <td>I have outdated information on my credit repor...</td>\n",
       "      <td>2</td>\n",
       "    </tr>\n",
       "    <tr>\n",
       "      <th>1</th>\n",
       "      <td>An account on my credit report has a mistaken ...</td>\n",
       "      <td>2</td>\n",
       "    </tr>\n",
       "    <tr>\n",
       "      <th>6</th>\n",
       "      <td>I have disputed several accounts on my credit ...</td>\n",
       "      <td>2</td>\n",
       "    </tr>\n",
       "    <tr>\n",
       "      <th>11</th>\n",
       "      <td>I am disputing the inaccurate information the ...</td>\n",
       "      <td>2</td>\n",
       "    </tr>\n",
       "    <tr>\n",
       "      <th>12</th>\n",
       "      <td>Checked my credit report after filing complain...</td>\n",
       "      <td>2</td>\n",
       "    </tr>\n",
       "    <tr>\n",
       "      <th>...</th>\n",
       "      <td>...</td>\n",
       "      <td>...</td>\n",
       "    </tr>\n",
       "    <tr>\n",
       "      <th>128855</th>\n",
       "      <td>Chase is showing XXXX accounts on my credit re...</td>\n",
       "      <td>2</td>\n",
       "    </tr>\n",
       "    <tr>\n",
       "      <th>128873</th>\n",
       "      <td>I went on transunion XX/XX/XXXX and got messag...</td>\n",
       "      <td>2</td>\n",
       "    </tr>\n",
       "    <tr>\n",
       "      <th>128907</th>\n",
       "      <td>I contacted Equifax after receiving documentat...</td>\n",
       "      <td>2</td>\n",
       "    </tr>\n",
       "    <tr>\n",
       "      <th>128939</th>\n",
       "      <td>I did not received the proper information on t...</td>\n",
       "      <td>2</td>\n",
       "    </tr>\n",
       "    <tr>\n",
       "      <th>128947</th>\n",
       "      <td>Equifax is reporting and inaccurate XXXX XXXX ...</td>\n",
       "      <td>2</td>\n",
       "    </tr>\n",
       "  </tbody>\n",
       "</table>\n",
       "<p>29828 rows × 2 columns</p>\n",
       "</div>"
      ],
      "text/plain": [
       "                                                     Text  Class\n",
       "0       I have outdated information on my credit repor...      2\n",
       "1       An account on my credit report has a mistaken ...      2\n",
       "6       I have disputed several accounts on my credit ...      2\n",
       "11      I am disputing the inaccurate information the ...      2\n",
       "12      Checked my credit report after filing complain...      2\n",
       "...                                                   ...    ...\n",
       "128855  Chase is showing XXXX accounts on my credit re...      2\n",
       "128873  I went on transunion XX/XX/XXXX and got messag...      2\n",
       "128907  I contacted Equifax after receiving documentat...      2\n",
       "128939  I did not received the proper information on t...      2\n",
       "128947  Equifax is reporting and inaccurate XXXX XXXX ...      2\n",
       "\n",
       "[29828 rows x 2 columns]"
      ]
     },
     "execution_count": 272,
     "metadata": {},
     "output_type": "execute_result"
    }
   ],
   "source": [
    "#Identifying type of class for 2\n",
    "d2=df.loc[df['Class'] == 2]\n",
    "d2"
   ]
  },
  {
   "cell_type": "code",
   "execution_count": 275,
   "metadata": {},
   "outputs": [
    {
     "data": {
      "text/plain": [
       "'Checked my credit report after filing complaint with CFPB on XXXX. Was finally able to get access to the dispute forms and the XXXX XXXX account scheduled for deletion XX/XX/XXXX2017 was still on record. After already registering with my report number, name and social security and placing the dispute in the \" dispute cart \\'\\', when I attempted to upload as instructed, I was taken to another form which requested the same ( and more ) information which was already a matter of record in order to get access to the report in the first place. Screenshots attached. Designed to discourage?'"
      ]
     },
     "execution_count": 275,
     "metadata": {},
     "output_type": "execute_result"
    }
   ],
   "source": [
    "d2['Text'][12]\n",
    "#Class 2 is related to Credit Reports"
   ]
  },
  {
   "cell_type": "code",
   "execution_count": 276,
   "metadata": {},
   "outputs": [
    {
     "data": {
      "text/html": [
       "<div>\n",
       "<style scoped>\n",
       "    .dataframe tbody tr th:only-of-type {\n",
       "        vertical-align: middle;\n",
       "    }\n",
       "\n",
       "    .dataframe tbody tr th {\n",
       "        vertical-align: top;\n",
       "    }\n",
       "\n",
       "    .dataframe thead th {\n",
       "        text-align: right;\n",
       "    }\n",
       "</style>\n",
       "<table border=\"1\" class=\"dataframe\">\n",
       "  <thead>\n",
       "    <tr style=\"text-align: right;\">\n",
       "      <th></th>\n",
       "      <th>Text</th>\n",
       "      <th>Class</th>\n",
       "    </tr>\n",
       "  </thead>\n",
       "  <tbody>\n",
       "    <tr>\n",
       "      <th>8</th>\n",
       "      <td>Was a happy XXXX card member for years, in lat...</td>\n",
       "      <td>3</td>\n",
       "    </tr>\n",
       "    <tr>\n",
       "      <th>9</th>\n",
       "      <td>Without provocation, I received notice that my...</td>\n",
       "      <td>3</td>\n",
       "    </tr>\n",
       "    <tr>\n",
       "      <th>18</th>\n",
       "      <td>Signed up for the American Express XXXX Card w...</td>\n",
       "      <td>3</td>\n",
       "    </tr>\n",
       "    <tr>\n",
       "      <th>47</th>\n",
       "      <td>I have been trying to cancel some monthly subs...</td>\n",
       "      <td>3</td>\n",
       "    </tr>\n",
       "    <tr>\n",
       "      <th>50</th>\n",
       "      <td>Hello Dear CFPB I want to share my experience ...</td>\n",
       "      <td>3</td>\n",
       "    </tr>\n",
       "    <tr>\n",
       "      <th>...</th>\n",
       "      <td>...</td>\n",
       "      <td>...</td>\n",
       "    </tr>\n",
       "    <tr>\n",
       "      <th>128923</th>\n",
       "      <td>XXXX/XXXX/XXXX someone got our info &amp; went to ...</td>\n",
       "      <td>3</td>\n",
       "    </tr>\n",
       "    <tr>\n",
       "      <th>128932</th>\n",
       "      <td>I received bills XX/XX/XXXX from Pay Pal Credi...</td>\n",
       "      <td>3</td>\n",
       "    </tr>\n",
       "    <tr>\n",
       "      <th>128940</th>\n",
       "      <td>I requested a refund from Citibank in XXXX 201...</td>\n",
       "      <td>3</td>\n",
       "    </tr>\n",
       "    <tr>\n",
       "      <th>128941</th>\n",
       "      <td>DISCOVER CARD PUT NEGATIVE REMARK \" CLOSED BY ...</td>\n",
       "      <td>3</td>\n",
       "    </tr>\n",
       "    <tr>\n",
       "      <th>128951</th>\n",
       "      <td>Barclay closed my Barclay XXXX MasterCard acco...</td>\n",
       "      <td>3</td>\n",
       "    </tr>\n",
       "  </tbody>\n",
       "</table>\n",
       "<p>18764 rows × 2 columns</p>\n",
       "</div>"
      ],
      "text/plain": [
       "                                                     Text  Class\n",
       "8       Was a happy XXXX card member for years, in lat...      3\n",
       "9       Without provocation, I received notice that my...      3\n",
       "18      Signed up for the American Express XXXX Card w...      3\n",
       "47      I have been trying to cancel some monthly subs...      3\n",
       "50      Hello Dear CFPB I want to share my experience ...      3\n",
       "...                                                   ...    ...\n",
       "128923  XXXX/XXXX/XXXX someone got our info & went to ...      3\n",
       "128932  I received bills XX/XX/XXXX from Pay Pal Credi...      3\n",
       "128940  I requested a refund from Citibank in XXXX 201...      3\n",
       "128941  DISCOVER CARD PUT NEGATIVE REMARK \" CLOSED BY ...      3\n",
       "128951  Barclay closed my Barclay XXXX MasterCard acco...      3\n",
       "\n",
       "[18764 rows x 2 columns]"
      ]
     },
     "execution_count": 276,
     "metadata": {},
     "output_type": "execute_result"
    }
   ],
   "source": [
    "#Identifying type of class for 3\n",
    "d3=df.loc[df['Class'] == 3]\n",
    "d3"
   ]
  },
  {
   "cell_type": "code",
   "execution_count": 280,
   "metadata": {},
   "outputs": [
    {
     "data": {
      "text/plain": [
       "'DISCOVER CARD PUT NEGATIVE REMARK \" CLOSED BY LENDER \\'\\' ON THE CREDIT REPORT BECAUSE I HAD TOO MANY DISPUTES AND FRAUD CASES OPEN ON MY ACCOUNT! DISCOVER FAILED TO PROTECT XXXX FROM COMMITING FRAUD ON THE CARD.'"
      ]
     },
     "execution_count": 280,
     "metadata": {},
     "output_type": "execute_result"
    }
   ],
   "source": [
    "d3['Text'][128941]\n",
    "#Class 3 is related to Credit Card"
   ]
  },
  {
   "cell_type": "code",
   "execution_count": null,
   "metadata": {},
   "outputs": [],
   "source": []
  },
  {
   "cell_type": "code",
   "execution_count": 19,
   "metadata": {},
   "outputs": [],
   "source": [
    "x=df['Text']\n",
    "y=df['Class']"
   ]
  },
  {
   "cell_type": "code",
   "execution_count": 20,
   "metadata": {},
   "outputs": [
    {
     "data": {
      "text/plain": [
       "0         I have outdated information on my credit repor...\n",
       "1         An account on my credit report has a mistaken ...\n",
       "2         This company refuses to provide me verificatio...\n",
       "3         This complaint is in regards to Square Two Fin...\n",
       "4         Started the refinance of home mortgage process...\n",
       "                                ...                        \n",
       "128951    Barclay closed my Barclay XXXX MasterCard acco...\n",
       "128952    Our son was taken to XXXX XXXX XXXX XXXX XXXX ...\n",
       "128953    I had an account with XXXX in XX/XX/XXXX this ...\n",
       "128954    I was contacted on XX/XX/XXXX email by XXXX fr...\n",
       "128955    I had a debit that was included in my chapter ...\n",
       "Name: Text, Length: 125956, dtype: object"
      ]
     },
     "execution_count": 20,
     "metadata": {},
     "output_type": "execute_result"
    }
   ],
   "source": [
    "x"
   ]
  },
  {
   "cell_type": "code",
   "execution_count": 21,
   "metadata": {},
   "outputs": [
    {
     "data": {
      "text/plain": [
       "0         2\n",
       "1         2\n",
       "2         0\n",
       "3         0\n",
       "4         1\n",
       "         ..\n",
       "128951    3\n",
       "128952    0\n",
       "128953    0\n",
       "128954    1\n",
       "128955    0\n",
       "Name: Class, Length: 125956, dtype: int32"
      ]
     },
     "execution_count": 21,
     "metadata": {},
     "output_type": "execute_result"
    }
   ],
   "source": [
    "y"
   ]
  },
  {
   "cell_type": "code",
   "execution_count": 22,
   "metadata": {},
   "outputs": [],
   "source": [
    "# Splitting the training and testing data in the ratio of 7:3, 70% training and 30% testing \n",
    "x_train, x_test, y_train, y_test = train_test_split(x, y, test_size=0.3, \n",
    "                                                        random_state=21, stratify=y)"
   ]
  },
  {
   "cell_type": "code",
   "execution_count": 23,
   "metadata": {},
   "outputs": [
    {
     "data": {
      "text/plain": [
       "43424     I have incorrect info on my credit report with...\n",
       "16107     I typically overpay my mortgage. I run XXXX mo...\n",
       "90756     COMPLAIINT : WELLS FARGO N.A, WFHM, & XXXX XXX...\n",
       "112064    I have received many phone calls claiming to b...\n",
       "31789     i received a letter from this company stating ...\n",
       "                                ...                        \n",
       "35019     File incorrect information on credit report an...\n",
       "30789     I have tried several times, to have informatio...\n",
       "48719     I have a home loan through Bank of America. My...\n",
       "128631    I cancelled internet service and returned a ro...\n",
       "105617    I did not own a social security number in the ...\n",
       "Name: Text, Length: 88169, dtype: object"
      ]
     },
     "execution_count": 23,
     "metadata": {},
     "output_type": "execute_result"
    }
   ],
   "source": [
    "x_train"
   ]
  },
  {
   "cell_type": "code",
   "execution_count": 24,
   "metadata": {},
   "outputs": [],
   "source": [
    "#pattern1 = re.compile('[/(){}\\[\\]\\|@,;#+_]')    # remove all special characters and punctuations\n",
    "pattern2 = re.compile('[^0-9a-z ]')     # only keep numbers and letters\n",
    "stops = set(stopwords.words('english')) \n",
    "lemmatizer = WordNetLemmatizer() \n",
    "#sno = nltk.stem.SnowballStemmer('english')"
   ]
  },
  {
   "cell_type": "code",
   "execution_count": 143,
   "metadata": {},
   "outputs": [],
   "source": [
    "def preprocess(text):\n",
    "    text = text.lower()\n",
    "    if bool(re.search(r'\\d', text)):\n",
    "        text = re.sub('[0-9]', '#', text) # search for numbers, if found replace by #\n",
    "    #text = pattern1.sub(' ', text)\n",
    "    text = pattern2.sub('', text)\n",
    "    text = re.sub('x{2,}', '', text) # remove more than 2 x(as case, card numbers etc are represented by xx.. in text)\n",
    "    text = ' '.join(lemmatizer.lemmatize(word) for word in text.split() if word not in stops) # removing stop words and lemmatizing\n",
    "    return text"
   ]
  },
  {
   "cell_type": "code",
   "execution_count": 144,
   "metadata": {},
   "outputs": [
    {
     "data": {
      "text/plain": [
       "'This complaint is in regards to Square Two Financial. Refer to CFPB case number XXXX regarding CACH, L. L. C. Square Two Financial has utilized my entire social security number to include date of birth on the pfd document listed with this complaint. The initial complaint was with CACH, L. L. C. and not Square Two Financial. This is in breach of the following : 1. Identity Theft Assumption and Deterrence Act of XXXX 2. Privacy Act of XXXX XXXX. Social Security XXXX 4. XXXX Privacy Act-which carries a maximum XXXX fine for each calendar cap year. \\n5. Breach of Title XXXX, XXXX XXXX XXXX XXXX under XXXX and XXXX The solution is to have CACH, L.L.C handle this correction and not Square Two Financial. Two Square Financial submitted the XXXX XXXX XXXX with their subscriber name on the form listed on CFPB case # XXXX they are rendered liable in this matter. In addition, there is an account number associated with this Universal Data Form and they could use that account number instead of a SSN and DOB which is against XXXX XXXX XXXX This is also includes removal of the XXXX XXXX Form off of CFPB case # XXXX listed as a pdf document attached to this case number. Square Two Financial was contacted at XXXXXXXXXXXX as of XXXX/XXXX/XXXX by e-mail in regards to this matter. In addition, all of my information is not for sale and distribution via fax, fax-scanned, copied, stored in a retrieval system, recorded, transmitted digitally or electronically without my expressed written consent. This information is protected under copyright and publishing laws of XXXX XXXX and XXXX XXXX. This information is protected under the XXXX XXXX XXXX XXXX XXXX under the freedom of speech under XXXX XXXX XXXX to include the Uniform Commercial Codes XXXX and XXXX. These rights are reserved world wide.'"
      ]
     },
     "execution_count": 144,
     "metadata": {},
     "output_type": "execute_result"
    }
   ],
   "source": [
    "x[3]"
   ]
  },
  {
   "cell_type": "code",
   "execution_count": 145,
   "metadata": {},
   "outputs": [
    {
     "data": {
      "text/plain": [
       "'complaint regard square two financial refer cfpb case number regarding cach l l c square two financial utilized entire social security number include date birth pfd document listed complaint initial complaint cach l l c square two financial breach following identity theft assumption deterrence act privacy act social security privacy actwhich carry maximum fine calendar cap year breach title solution cach llc handle correction square two financial two square financial submitted subscriber name form listed cfpb case rendered liable matter addition account number associated universal data form could use account number instead ssn dob also includes removal form cfpb case listed pdf document attached case number square two financial contacted email regard matter addition information sale distribution via fax faxscanned copied stored retrieval system recorded transmitted digitally electronically without expressed written consent information protected copyright publishing law information protected freedom speech include uniform commercial code right reserved world wide'"
      ]
     },
     "execution_count": 145,
     "metadata": {},
     "output_type": "execute_result"
    }
   ],
   "source": [
    "preprocess(x[3])"
   ]
  },
  {
   "cell_type": "code",
   "execution_count": 146,
   "metadata": {},
   "outputs": [],
   "source": [
    "#applying text preprocessing on training data\n",
    "predata_train=x_train.apply(preprocess)"
   ]
  },
  {
   "cell_type": "code",
   "execution_count": 147,
   "metadata": {},
   "outputs": [],
   "source": [
    "#applying text preprocessing on testing data\n",
    "predata_test=x_test.apply(preprocess)"
   ]
  },
  {
   "cell_type": "code",
   "execution_count": null,
   "metadata": {},
   "outputs": [],
   "source": []
  },
  {
   "cell_type": "code",
   "execution_count": 152,
   "metadata": {},
   "outputs": [],
   "source": [
    "# Initializing Linear SVM model with default parameters (loss=hinge for SVM) \n",
    "\n",
    "linearsvc = Pipeline([('vect', CountVectorizer()),\n",
    "                ('tfidf', TfidfTransformer()),\n",
    "                ('clf', LinearSVC(loss='hinge'))])\n"
   ]
  },
  {
   "cell_type": "code",
   "execution_count": 153,
   "metadata": {},
   "outputs": [
    {
     "name": "stderr",
     "output_type": "stream",
     "text": [
      "C:\\Users\\praka.LAPTOP-HFF316K4\\Anaconda3\\envs\\prakprojects\\lib\\site-packages\\sklearn\\svm\\_base.py:947: ConvergenceWarning: Liblinear failed to converge, increase the number of iterations.\n",
      "  \"the number of iterations.\", ConvergenceWarning)\n"
     ]
    },
    {
     "data": {
      "text/plain": [
       "Pipeline(memory=None,\n",
       "         steps=[('vect',\n",
       "                 CountVectorizer(analyzer='word', binary=False,\n",
       "                                 decode_error='strict',\n",
       "                                 dtype=<class 'numpy.int64'>, encoding='utf-8',\n",
       "                                 input='content', lowercase=True, max_df=1.0,\n",
       "                                 max_features=None, min_df=1,\n",
       "                                 ngram_range=(1, 1), preprocessor=None,\n",
       "                                 stop_words=None, strip_accents=None,\n",
       "                                 token_pattern='(?u)\\\\b\\\\w\\\\w+\\\\b',\n",
       "                                 tokenizer=None, vocabulary=None)),\n",
       "                ('tfidf',\n",
       "                 TfidfTransformer(norm='l2', smooth_idf=True,\n",
       "                                  sublinear_tf=False, use_idf=True)),\n",
       "                ('clf',\n",
       "                 LinearSVC(C=1.0, class_weight=None, dual=True,\n",
       "                           fit_intercept=True, intercept_scaling=1,\n",
       "                           loss='hinge', max_iter=1000, multi_class='ovr',\n",
       "                           penalty='l2', random_state=None, tol=0.0001,\n",
       "                           verbose=0))],\n",
       "         verbose=False)"
      ]
     },
     "execution_count": 153,
     "metadata": {},
     "output_type": "execute_result"
    }
   ],
   "source": [
    "#fitting the model with training data\n",
    "linearsvc.fit(predata_train, y_train)"
   ]
  },
  {
   "cell_type": "code",
   "execution_count": 154,
   "metadata": {},
   "outputs": [],
   "source": [
    "#prediction on the model for test data\n",
    "y_pred2 = linearsvc.predict(predata_test)"
   ]
  },
  {
   "cell_type": "code",
   "execution_count": 155,
   "metadata": {},
   "outputs": [
    {
     "name": "stdout",
     "output_type": "stream",
     "text": [
      "accuracy 0.9178288829491624\n",
      "              precision    recall  f1-score   support\n",
      "\n",
      "           0       0.90      0.92      0.91     12844\n",
      "           1       0.96      0.97      0.96     10365\n",
      "           2       0.91      0.87      0.89      8949\n",
      "           3       0.91      0.89      0.90      5629\n",
      "\n",
      "    accuracy                           0.92     37787\n",
      "   macro avg       0.92      0.91      0.91     37787\n",
      "weighted avg       0.92      0.92      0.92     37787\n",
      "\n"
     ]
    },
    {
     "data": {
      "image/png": "[encoded data removed]",
      "text/plain": [
       "<Figure size 432x288 with 2 Axes>"
      ]
     },
     "metadata": {
      "needs_background": "light"
     },
     "output_type": "display_data"
    }
   ],
   "source": [
    "print('accuracy %s' % accuracy_score(y_pred2, y_test))\n",
    "print(classification_report(y_test, y_pred2))\n",
    "skplt.metrics.plot_confusion_matrix(y_test, y_pred2, normalize=True)\n",
    "\n",
    "plt.show()"
   ]
  },
  {
   "cell_type": "code",
   "execution_count": null,
   "metadata": {},
   "outputs": [],
   "source": []
  },
  {
   "cell_type": "code",
   "execution_count": 85,
   "metadata": {},
   "outputs": [],
   "source": [
    "# HYPERPARAMETER TUNING\n",
    "text_clf = Pipeline([('vect', CountVectorizer()),\n",
    "                     ('tfidf', TfidfTransformer()),\n",
    "                     ('clf', LinearSVC())])\n",
    "tuned_parameters = {\n",
    "    'vect__ngram_range': [(1, 1), (1, 2), (2, 2)],\n",
    "    'tfidf__use_idf': (True, False),\n",
    "    'tfidf__norm': ('l1', 'l2'),\n",
    "    'clf__loss': ['hinge','squared_hinge'],\n",
    "    'clf__C': [0.1, 1, 10, 100]}"
   ]
  },
  {
   "cell_type": "code",
   "execution_count": 96,
   "metadata": {},
   "outputs": [],
   "source": [
    "clf = GridSearchCV(text_clf, tuned_parameters, cv=5, verbose=10,n_jobs=4)\n"
   ]
  },
  {
   "cell_type": "code",
   "execution_count": 97,
   "metadata": {},
   "outputs": [
    {
     "name": "stdout",
     "output_type": "stream",
     "text": [
      "Fitting 5 folds for each of 96 candidates, totalling 480 fits\n"
     ]
    },
    {
     "name": "stderr",
     "output_type": "stream",
     "text": [
      "[Parallel(n_jobs=4)]: Using backend LokyBackend with 4 concurrent workers.\n",
      "[Parallel(n_jobs=4)]: Done   5 tasks      | elapsed:   48.7s\n",
      "[Parallel(n_jobs=4)]: Done  10 tasks      | elapsed:  4.4min\n",
      "[Parallel(n_jobs=4)]: Done  17 tasks      | elapsed:  5.9min\n",
      "[Parallel(n_jobs=4)]: Done  24 tasks      | elapsed:  7.5min\n",
      "[Parallel(n_jobs=4)]: Done  33 tasks      | elapsed:  8.7min\n",
      "[Parallel(n_jobs=4)]: Done  42 tasks      | elapsed: 10.7min\n",
      "[Parallel(n_jobs=4)]: Done  53 tasks      | elapsed: 12.0min\n",
      "[Parallel(n_jobs=4)]: Done  64 tasks      | elapsed: 13.3min\n",
      "[Parallel(n_jobs=4)]: Done  77 tasks      | elapsed: 15.4min\n",
      "[Parallel(n_jobs=4)]: Done  90 tasks      | elapsed: 17.1min\n",
      "[Parallel(n_jobs=4)]: Done 105 tasks      | elapsed: 19.1min\n",
      "[Parallel(n_jobs=4)]: Done 120 tasks      | elapsed: 21.0min\n",
      "[Parallel(n_jobs=4)]: Done 137 tasks      | elapsed: 25.0min\n",
      "[Parallel(n_jobs=4)]: Done 154 tasks      | elapsed: 28.4min\n",
      "[Parallel(n_jobs=4)]: Done 173 tasks      | elapsed: 40.0min\n",
      "[Parallel(n_jobs=4)]: Done 192 tasks      | elapsed: 46.6min\n",
      "[Parallel(n_jobs=4)]: Done 213 tasks      | elapsed: 50.5min\n",
      "[Parallel(n_jobs=4)]: Done 234 tasks      | elapsed: 53.9min\n",
      "[Parallel(n_jobs=4)]: Done 257 tasks      | elapsed: 112.4min\n",
      "[Parallel(n_jobs=4)]: Done 280 tasks      | elapsed: 130.0min\n",
      "[Parallel(n_jobs=4)]: Done 305 tasks      | elapsed: 148.6min\n",
      "[Parallel(n_jobs=4)]: Done 330 tasks      | elapsed: 170.3min\n",
      "[Parallel(n_jobs=4)]: Done 357 tasks      | elapsed: 185.7min\n",
      "[Parallel(n_jobs=4)]: Done 384 tasks      | elapsed: 215.2min\n",
      "[Parallel(n_jobs=4)]: Done 413 tasks      | elapsed: 247.3min\n",
      "[Parallel(n_jobs=4)]: Done 442 tasks      | elapsed: 297.2min\n",
      "[Parallel(n_jobs=4)]: Done 473 tasks      | elapsed: 414.6min\n",
      "[Parallel(n_jobs=4)]: Done 480 out of 480 | elapsed: 423.7min finished\n"
     ]
    }
   ],
   "source": [
    "clf.fit(predata_train, y_train)\n",
    "ypred1=clf.predict(predata_test)\n"
   ]
  },
  {
   "cell_type": "code",
   "execution_count": 98,
   "metadata": {},
   "outputs": [
    {
     "data": {
      "text/plain": [
       "array([2, 0, 2, ..., 3, 1, 0])"
      ]
     },
     "execution_count": 98,
     "metadata": {},
     "output_type": "execute_result"
    }
   ],
   "source": [
    "ypred1"
   ]
  },
  {
   "cell_type": "code",
   "execution_count": 99,
   "metadata": {
    "scrolled": true
   },
   "outputs": [
    {
     "name": "stdout",
     "output_type": "stream",
     "text": [
      "accuracy 0.8710667689946278\n",
      "              precision    recall  f1-score   support\n",
      "\n",
      "           0       0.81      0.93      0.86     12844\n",
      "           1       0.96      0.92      0.94     10365\n",
      "           2       0.87      0.78      0.82      8949\n",
      "           3       0.89      0.80      0.84      5629\n",
      "\n",
      "    accuracy                           0.87     37787\n",
      "   macro avg       0.88      0.86      0.87     37787\n",
      "weighted avg       0.88      0.87      0.87     37787\n",
      "\n"
     ]
    },
    {
     "data": {
      "image/png": "[encoded data removed]",
      "text/plain": [
       "<Figure size 432x288 with 2 Axes>"
      ]
     },
     "metadata": {
      "needs_background": "light"
     },
     "output_type": "display_data"
    }
   ],
   "source": [
    "print('accuracy %s' % accuracy_score(y_pred1, y_test))\n",
    "print(classification_report(y_test, y_pred1))\n",
    "skplt.metrics.plot_confusion_matrix(y_test, y_pred1, normalize=True)\n",
    "plt.show()"
   ]
  },
  {
   "cell_type": "code",
   "execution_count": 102,
   "metadata": {},
   "outputs": [
    {
     "name": "stdout",
     "output_type": "stream",
     "text": [
      "Best Score :  0.9197904078841213\n",
      "Best Parameters :  {'clf__C': 1, 'clf__loss': 'squared_hinge', 'tfidf__norm': 'l2', 'tfidf__use_idf': True, 'vect__ngram_range': (1, 2)}\n"
     ]
    }
   ],
   "source": [
    "print(\"Best Score : \", clf.best_score_)\n",
    "print(\"Best Parameters : \",clf.best_params_)"
   ]
  },
  {
   "cell_type": "code",
   "execution_count": null,
   "metadata": {},
   "outputs": [],
   "source": []
  },
  {
   "cell_type": "code",
   "execution_count": 156,
   "metadata": {},
   "outputs": [],
   "source": [
    "# Reinitalizing the model with optimal parameters (loss=hinge for svm)\n",
    "linearsvc4 = Pipeline([('vect', CountVectorizer(ngram_range=(1,2))),\n",
    "                ('tfidf', TfidfTransformer(use_idf=True)),\n",
    "                ('clf', LinearSVC(loss='hinge', C=1.0))])\n"
   ]
  },
  {
   "cell_type": "code",
   "execution_count": 157,
   "metadata": {},
   "outputs": [
    {
     "name": "stderr",
     "output_type": "stream",
     "text": [
      "C:\\Users\\praka.LAPTOP-HFF316K4\\Anaconda3\\envs\\prakprojects\\lib\\site-packages\\sklearn\\svm\\_base.py:947: ConvergenceWarning: Liblinear failed to converge, increase the number of iterations.\n",
      "  \"the number of iterations.\", ConvergenceWarning)\n"
     ]
    },
    {
     "data": {
      "text/plain": [
       "Pipeline(memory=None,\n",
       "         steps=[('vect',\n",
       "                 CountVectorizer(analyzer='word', binary=False,\n",
       "                                 decode_error='strict',\n",
       "                                 dtype=<class 'numpy.int64'>, encoding='utf-8',\n",
       "                                 input='content', lowercase=True, max_df=1.0,\n",
       "                                 max_features=None, min_df=1,\n",
       "                                 ngram_range=(1, 2), preprocessor=None,\n",
       "                                 stop_words=None, strip_accents=None,\n",
       "                                 token_pattern='(?u)\\\\b\\\\w\\\\w+\\\\b',\n",
       "                                 tokenizer=None, vocabulary=None)),\n",
       "                ('tfidf',\n",
       "                 TfidfTransformer(norm='l2', smooth_idf=True,\n",
       "                                  sublinear_tf=False, use_idf=True)),\n",
       "                ('clf',\n",
       "                 LinearSVC(C=1.0, class_weight=None, dual=True,\n",
       "                           fit_intercept=True, intercept_scaling=1,\n",
       "                           loss='hinge', max_iter=1000, multi_class='ovr',\n",
       "                           penalty='l2', random_state=None, tol=0.0001,\n",
       "                           verbose=0))],\n",
       "         verbose=False)"
      ]
     },
     "execution_count": 157,
     "metadata": {},
     "output_type": "execute_result"
    }
   ],
   "source": [
    "# retraining the new tuned model \n",
    "linearsvc4.fit(predata_train, y_train)"
   ]
  },
  {
   "cell_type": "code",
   "execution_count": 158,
   "metadata": {},
   "outputs": [],
   "source": [
    "# predicting with tets values on new model\n",
    "\n",
    "y_pred5 = linearsvc4.predict(predata_test)"
   ]
  },
  {
   "cell_type": "code",
   "execution_count": 159,
   "metadata": {},
   "outputs": [
    {
     "name": "stdout",
     "output_type": "stream",
     "text": [
      "accuracy 0.9238627041045863\n",
      "              precision    recall  f1-score   support\n",
      "\n",
      "           0       0.90      0.93      0.92     12844\n",
      "           1       0.96      0.97      0.96     10365\n",
      "           2       0.92      0.88      0.90      8949\n",
      "           3       0.91      0.89      0.90      5629\n",
      "\n",
      "    accuracy                           0.92     37787\n",
      "   macro avg       0.92      0.92      0.92     37787\n",
      "weighted avg       0.92      0.92      0.92     37787\n",
      "\n"
     ]
    },
    {
     "data": {
      "image/png": "[encoded data removed]",
      "text/plain": [
       "<Figure size 432x288 with 2 Axes>"
      ]
     },
     "metadata": {
      "needs_background": "light"
     },
     "output_type": "display_data"
    }
   ],
   "source": [
    "print('accuracy %s' % accuracy_score(y_pred5, y_test))\n",
    "print(classification_report(y_test, y_pred5))\n",
    "skplt.metrics.plot_confusion_matrix(y_test, y_pred5, normalize=True)\n",
    "\n",
    "plt.show()"
   ]
  },
  {
   "cell_type": "code",
   "execution_count": null,
   "metadata": {},
   "outputs": [],
   "source": []
  },
  {
   "cell_type": "code",
   "execution_count": 374,
   "metadata": {},
   "outputs": [
    {
     "name": "stdout",
     "output_type": "stream",
     "text": [
      "Enter the complaint to classify:my credit card number 263892201001 was stolen. someone bought jewelley with it. i had deactivated the card\n",
      "\n",
      "The given complaint is related to Credit Card.\n"
     ]
    }
   ],
   "source": [
    "# Prediction on new samples using the linear svm model tuned for optimal parameters \n",
    "\n",
    "examples = str(input(\"Enter the complaint to classify: \"))\n",
    "egs=preprocess(examples)\n",
    "example=[egs]\n",
    "predictions = linearsvc4.predict(example)\n",
    "\n",
    "if predictions==0:\n",
    "    print(\"\\nThe given complaint is related to Debt\")\n",
    "    \n",
    "elif predictions==1:\n",
    "    print(\"\\nThe given complaint is related to Mortage/Loans\")\n",
    "    \n",
    "elif predictions==2:\n",
    "    print(\"\\nThe given complaint is related to Credit Reports\")\n",
    "    \n",
    "elif predictions==3:\n",
    "    print(\"\\nThe given complaint is related to Credit Card\")\n",
    "    "
   ]
  },
  {
   "cell_type": "code",
   "execution_count": null,
   "metadata": {},
   "outputs": [],
   "source": []
  },
  {
   "cell_type": "markdown",
   "metadata": {},
   "source": [
    "2) DEEP LEARNING LSTM MODEL FOR TRIAL TO CHECK IF CHANGE IN RESULT"
   ]
  },
  {
   "cell_type": "code",
   "execution_count": 287,
   "metadata": {},
   "outputs": [],
   "source": [
    "# defining parameters in advance\n",
    "\n",
    "vocab_size = 5000\n",
    "embedding_dim = 64\n",
    "max_length = 200\n",
    "trunc_type = 'post'\n",
    "padding_type = 'post'\n",
    "oov_tok = '<OOV>' #for out of vocabulary words, replcae with oov instead of dropping them\n",
    "training_portion = .8"
   ]
  },
  {
   "cell_type": "code",
   "execution_count": 289,
   "metadata": {},
   "outputs": [],
   "source": [
    "from tensorflow.keras.preprocessing.text import Tokenizer\n",
    "from tensorflow.keras.preprocessing.sequence import pad_sequences"
   ]
  },
  {
   "cell_type": "code",
   "execution_count": 290,
   "metadata": {},
   "outputs": [],
   "source": [
    "# tokenizing the training data\n",
    "\n",
    "tokenizer = Tokenizer(num_words = vocab_size, oov_token=oov_tok)\n",
    "tokenizer.fit_on_texts(predata_train)\n",
    "word_index = tokenizer.word_index"
   ]
  },
  {
   "cell_type": "code",
   "execution_count": 294,
   "metadata": {},
   "outputs": [
    {
     "data": {
      "text/plain": [
       "{'<OOV>': 1,\n",
       " 'credit': 2,\n",
       " 'account': 3,\n",
       " 'payment': 4,\n",
       " 'loan': 5,\n",
       " 'debt': 6,\n",
       " 'report': 7,\n",
       " 'would': 8,\n",
       " 'time': 9,\n",
       " 'mortgage': 10,\n",
       " 'information': 11,\n",
       " 'company': 12,\n",
       " 'received': 13,\n",
       " 'told': 14,\n",
       " 'call': 15,\n",
       " 'card': 16,\n",
       " 'nt': 17,\n",
       " 'letter': 18,\n",
       " 'bank': 19,\n",
       " 'called': 20}"
      ]
     },
     "execution_count": 294,
     "metadata": {},
     "output_type": "execute_result"
    }
   ],
   "source": [
    "dict(list(word_index.items())[0:20])"
   ]
  },
  {
   "cell_type": "code",
   "execution_count": 295,
   "metadata": {},
   "outputs": [],
   "source": [
    "# converting token to list of sequences\n",
    "\n",
    "train_sequences = tokenizer.texts_to_sequences(predata_train)"
   ]
  },
  {
   "cell_type": "code",
   "execution_count": 296,
   "metadata": {},
   "outputs": [
    {
     "data": {
      "text/plain": [
       "[320,\n",
       " 7,\n",
       " 424,\n",
       " 64,\n",
       " 50,\n",
       " 10,\n",
       " 3,\n",
       " 904,\n",
       " 10,\n",
       " 1019,\n",
       " 904,\n",
       " 10,\n",
       " 236,\n",
       " 46,\n",
       " 25,\n",
       " 4,\n",
       " 1697,\n",
       " 784,\n",
       " 61,\n",
       " 37,\n",
       " 512,\n",
       " 360,\n",
       " 3450,\n",
       " 4,\n",
       " 735,\n",
       " 12,\n",
       " 1192,\n",
       " 596,\n",
       " 4,\n",
       " 2062,\n",
       " 164,\n",
       " 905,\n",
       " 926,\n",
       " 24,\n",
       " 273,\n",
       " 176,\n",
       " 64,\n",
       " 24,\n",
       " 27,\n",
       " 24,\n",
       " 696,\n",
       " 115,\n",
       " 149,\n",
       " 391,\n",
       " 132,\n",
       " 173,\n",
       " 904,\n",
       " 10,\n",
       " 167,\n",
       " 4,\n",
       " 837,\n",
       " 176,\n",
       " 249,\n",
       " 64,\n",
       " 24,\n",
       " 53,\n",
       " 1394,\n",
       " 195,\n",
       " 9,\n",
       " 4,\n",
       " 17,\n",
       " 53,\n",
       " 650,\n",
       " 37,\n",
       " 46,\n",
       " 4,\n",
       " 20,\n",
       " 310,\n",
       " 90,\n",
       " 257,\n",
       " 14,\n",
       " 53,\n",
       " 242,\n",
       " 27,\n",
       " 48,\n",
       " 696,\n",
       " 24,\n",
       " 2695,\n",
       " 629,\n",
       " 64,\n",
       " 1530,\n",
       " 1158,\n",
       " 26,\n",
       " 4,\n",
       " 4,\n",
       " 548,\n",
       " 1590,\n",
       " 1158,\n",
       " 64,\n",
       " 24,\n",
       " 375,\n",
       " 323,\n",
       " 5,\n",
       " 115,\n",
       " 1049,\n",
       " 24,\n",
       " 41,\n",
       " 125,\n",
       " 33,\n",
       " 1180,\n",
       " 12,\n",
       " 555,\n",
       " 53,\n",
       " 14,\n",
       " 447,\n",
       " 86,\n",
       " 24,\n",
       " 4,\n",
       " 696,\n",
       " 905,\n",
       " 3,\n",
       " 8,\n",
       " 91,\n",
       " 63,\n",
       " 1041,\n",
       " 66,\n",
       " 88,\n",
       " 70,\n",
       " 2791,\n",
       " 1329,\n",
       " 705,\n",
       " 49,\n",
       " 733,\n",
       " 189,\n",
       " 72,\n",
       " 75,\n",
       " 576,\n",
       " 488,\n",
       " 69,\n",
       " 324,\n",
       " 189]"
      ]
     },
     "execution_count": 296,
     "metadata": {},
     "output_type": "execute_result"
    }
   ],
   "source": [
    "train_sequences[5]"
   ]
  },
  {
   "cell_type": "code",
   "execution_count": 297,
   "metadata": {},
   "outputs": [],
   "source": [
    "# padding the sequences to make same size\n",
    "\n",
    "train_padded = pad_sequences(train_sequences, maxlen=max_length, padding=padding_type, truncating=trunc_type)"
   ]
  },
  {
   "cell_type": "code",
   "execution_count": 298,
   "metadata": {},
   "outputs": [
    {
     "name": "stdout",
     "output_type": "stream",
     "text": [
      "8\n",
      "200\n"
     ]
    }
   ],
   "source": [
    "print(len(train_sequences[0]))\n",
    "print(len(train_padded[0]))"
   ]
  },
  {
   "cell_type": "code",
   "execution_count": 301,
   "metadata": {},
   "outputs": [],
   "source": [
    "# tokenization and convert to list of sequences for testing data\n",
    "\n",
    "test_sequences = tokenizer.texts_to_sequences(predata_test)\n",
    "test_padded = pad_sequences(test_sequences, maxlen=max_length, padding=padding_type, truncating=trunc_type)"
   ]
  },
  {
   "cell_type": "code",
   "execution_count": 305,
   "metadata": {},
   "outputs": [
    {
     "name": "stdout",
     "output_type": "stream",
     "text": [
      "contacted help obtain letter dynamic recovery solution inquiry credit report removed contacted dynamic recovery solution would allow information involving account social security number match therefore account mine access due social security number match owed outstanding debt involving credit year therefore dynamic recovery solution ground access credit information removed although matter credit report somewhat resolved would like proof client hired <OOV> perform inquiry outstanding debt past year according section <OOV> state statute limitation commence action upon contractual obligation liability express implied except residential rent overcharge certain transaction described uniform commercial code warranty new home must brought within year cause action accrued statute limitation includes consumer credit transaction credit card calculated run date last transaction either last credit purchase last payment made whichever occurs last time purpose contacting cfpb matter reveal dynamic recovery solution abide section <OOV> <OOV> familiar considering nature business furthermore <OOV> still provided proof hired inquire consumer credit report letter emailed clearly wrong social security number hope cfpb requires <OOV> produce proof leading obtain consumer credit report whole purpose complaint <OOV> company could get anyone information <OOV> investigated following guideline pray cfpb thoroughly <OOV> matter able help aid put <OOV> type violation code due kind <OOV> personal information federal\n",
      "---\n",
      "Started the refinance of home mortgage process with cash out option on XX/XX/2016. Necessary documents were submitted by XXXX. After initial review, got good faith estimate with loan amount and closing cost. Based on this estimate, a deposit of {$350.00} was made towards appraisal. Appraisal came with lesser amount by {$5000.00}. Agreed to reduce the loan amount to that extent. However, got a revised estimate which was less by {$30000.00} and with additional closing cost towards points etc. In between got numerous revised estimates with different loan amounts and closing cost. It took more than 2 months to reach any definite closing document. Hence, want to get back the deposit of {$350.00}.\n"
     ]
    }
   ],
   "source": [
    "# Comparing original text and preprocessed text \n",
    "\n",
    "reverse_word_index = dict([(value, key) for (key, value) in word_index.items()])\n",
    "\n",
    "def decode_article(text):\n",
    "    return ' '.join([reverse_word_index.get(i, '?') for i in text])\n",
    "print(decode_article(train_padded[10]))\n",
    "print('---')\n",
    "print(x_train[4])"
   ]
  },
  {
   "cell_type": "code",
   "execution_count": 306,
   "metadata": {},
   "outputs": [
    {
     "name": "stdout",
     "output_type": "stream",
     "text": [
      "_________________________________________________________________\n",
      "Layer (type)                 Output Shape              Param #   \n",
      "=================================================================\n",
      "embedding (Embedding)        (None, None, 64)          320000    \n",
      "_________________________________________________________________\n",
      "bidirectional (Bidirectional (None, 128)               66048     \n",
      "_________________________________________________________________\n",
      "dense (Dense)                (None, 64)                8256      \n",
      "_________________________________________________________________\n",
      "dense_1 (Dense)              (None, 6)                 390       \n",
      "=================================================================\n",
      "Total params: 394,694\n",
      "Trainable params: 394,694\n",
      "Non-trainable params: 0\n",
      "_________________________________________________________________\n"
     ]
    }
   ],
   "source": [
    "# Creating lSTM model\n",
    "\n",
    "model = tf.keras.Sequential([\n",
    "    # Adding an Embedding layer with input of size 5000 and output embeddingof size 64 at the top\n",
    "    tf.keras.layers.Embedding(vocab_size, embedding_dim),\n",
    "    tf.keras.layers.Bidirectional(tf.keras.layers.LSTM(embedding_dim)),\n",
    "#   i.e tf.keras.layers.Bidirectional(tf.keras.layers.LSTM(32)),\n",
    "    tf.keras.layers.Dense(embedding_dim, activation='relu'),\n",
    "    # Adding a Dense layer with 6 units and softmax activation.\n",
    "    # When we have multiple outputs, softmax convert outputs layers into a probability distribution.\n",
    "    tf.keras.layers.Dense(6, activation='softmax')\n",
    "])\n",
    "model.summary()"
   ]
  },
  {
   "cell_type": "code",
   "execution_count": 307,
   "metadata": {},
   "outputs": [],
   "source": [
    "model.compile(loss='sparse_categorical_crossentropy', optimizer='adam', metrics=['accuracy']) # sparse_categorical_crossentropy for multiclass integer labels"
   ]
  },
  {
   "cell_type": "code",
   "execution_count": 311,
   "metadata": {
    "scrolled": true
   },
   "outputs": [
    {
     "name": "stdout",
     "output_type": "stream",
     "text": [
      "Train on 70535 samples, validate on 17634 samples\n",
      "Epoch 1/7\n",
      "Epoch 2/7\n",
      "Epoch 3/7\n",
      "Epoch 4/7\n",
      "Epoch 5/7\n",
      "Epoch 6/7\n",
      "Epoch 7/7\n"
     ]
    }
   ],
   "source": [
    "# fitting the model with training data \n",
    "\n",
    "history = model.fit(train_padded, y_train, epochs=7, validation_split=0.2, verbose=5)"
   ]
  },
  {
   "cell_type": "code",
   "execution_count": 312,
   "metadata": {},
   "outputs": [
    {
     "name": "stdout",
     "output_type": "stream",
     "text": [
      "37787/37787 [==============================] - 50s 1ms/step\n",
      "Test set\n",
      "  Loss: 0.296\n",
      "  Accuracy: 0.913\n"
     ]
    }
   ],
   "source": [
    "# evaluate the model on testing data\n",
    "\n",
    "accr = model.evaluate(test_padded,y_test)\n",
    "print('Test set\\n  Loss: {:0.3f}\\n  Accuracy: {:0.3f}'.format(accr[0],accr[1]))"
   ]
  },
  {
   "cell_type": "code",
   "execution_count": 318,
   "metadata": {},
   "outputs": [
    {
     "data": {
      "image/png": "[encoded data removed]",
      "text/plain": [
       "<Figure size 432x288 with 1 Axes>"
      ]
     },
     "metadata": {
      "needs_background": "light"
     },
     "output_type": "display_data"
    },
    {
     "data": {
      "image/png": "[encoded data removed]",
      "text/plain": [
       "<Figure size 432x288 with 1 Axes>"
      ]
     },
     "metadata": {
      "needs_background": "light"
     },
     "output_type": "display_data"
    }
   ],
   "source": [
    "# plot the learning curve of model\n",
    "\n",
    "def plot_graphs(history, string):\n",
    "  plt.plot(history.history[string])\n",
    "  plt.plot(history.history['val_'+string])\n",
    "  plt.xlabel(\"Epochs\")\n",
    "  plt.ylabel(string)\n",
    "  plt.legend([string, 'val_'+string])\n",
    "  plt.show()\n",
    "  \n",
    "plot_graphs(history, \"acc\")\n",
    "plot_graphs(history, \"loss\")\n"
   ]
  },
  {
   "cell_type": "code",
   "execution_count": 350,
   "metadata": {},
   "outputs": [
    {
     "data": {
      "text/plain": [
       "array([2, 0, 2, ..., 3, 1, 0], dtype=int64)"
      ]
     },
     "execution_count": 350,
     "metadata": {},
     "output_type": "execute_result"
    }
   ],
   "source": [
    "# predict the classes of testing data\n",
    "\n",
    "y_pred6=model.predict_classes(test_padded)\n",
    "y_pred6"
   ]
  },
  {
   "cell_type": "code",
   "execution_count": 352,
   "metadata": {},
   "outputs": [
    {
     "name": "stdout",
     "output_type": "stream",
     "text": [
      "              precision    recall  f1-score   support\n",
      "\n",
      "           0       0.90      0.91      0.90     12844\n",
      "           1       0.95      0.97      0.96     10365\n",
      "           2       0.90      0.88      0.89      8949\n",
      "           3       0.90      0.86      0.88      5629\n",
      "\n",
      "    accuracy                           0.91     37787\n",
      "   macro avg       0.91      0.91      0.91     37787\n",
      "weighted avg       0.91      0.91      0.91     37787\n",
      "\n"
     ]
    },
    {
     "data": {
      "image/png": "[encoded data removed]",
      "text/plain": [
       "<Figure size 432x288 with 2 Axes>"
      ]
     },
     "metadata": {
      "needs_background": "light"
     },
     "output_type": "display_data"
    }
   ],
   "source": [
    "print(classification_report(y_test, y_pred6))\n",
    "skplt.metrics.plot_confusion_matrix(y_test, y_pred6, normalize=True)\n",
    "plt.show()"
   ]
  },
  {
   "cell_type": "code",
   "execution_count": null,
   "metadata": {},
   "outputs": [],
   "source": []
  },
  {
   "cell_type": "code",
   "execution_count": 373,
   "metadata": {},
   "outputs": [
    {
     "name": "stdout",
     "output_type": "stream",
     "text": [
      "Enter the complaint to classify:my credit card of 252822020 was stolen \n",
      "\n",
      "The given complaint is related to Credit Card.\n"
     ]
    }
   ],
   "source": [
    "# Prediction on new samples using the LSTM model \n",
    "\n",
    "examples = str(input(\"Enter the complaint to classify:\"))\n",
    "egs=preprocess(examples)\n",
    "example=[egs]\n",
    "sequences = tokenizer.texts_to_sequences(example)\n",
    "padded = pad_sequences(sequences, maxlen=max_length, padding=padding_type, truncating=trunc_type)\n",
    "predictions = model.predict_classes(padded)\n",
    "\n",
    "\n",
    "if predictions==0:\n",
    "    print(\"\\nThe given complaint is related to Debt\")\n",
    "    \n",
    "elif predictions==1:\n",
    "    print(\"\\nThe given complaint is related to Mortage/Loans\")\n",
    "    \n",
    "elif predictions==2:\n",
    "    print(\"\\nThe given complaint is related to Credit Reports\")\n",
    "    \n",
    "elif predictions==3:\n",
    "    print(\"\\nThe given complaint is related to Credit Card\")\n",
    "    "
   ]
  },
  {
   "cell_type": "raw",
   "metadata": {},
   "source": []
  },
  {
   "cell_type": "raw",
   "metadata": {},
   "source": []
  },
  {
   "cell_type": "code",
   "execution_count": null,
   "metadata": {},
   "outputs": [],
   "source": []
  }
 ],
 "metadata": {
  "kernelspec": {
   "display_name": "Python 3",
   "language": "python",
   "name": "python3"
  },
  "language_info": {
   "codemirror_mode": {
    "name": "ipython",
    "version": 3
   },
   "file_extension": ".py",
   "mimetype": "text/x-python",
   "name": "python",
   "nbconvert_exporter": "python",
   "pygments_lexer": "ipython3",
   "version": "3.6.10"
  }
 },
 "nbformat": 4,
 "nbformat_minor": 4
}
